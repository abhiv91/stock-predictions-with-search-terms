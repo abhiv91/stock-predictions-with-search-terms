{
 "cells": [
  {
   "cell_type": "markdown",
   "metadata": {},
   "source": [
    "# Design Specification and Project Plan"
   ]
  },
  {
   "cell_type": "markdown",
   "metadata": {},
   "source": [
    "## Data Manipulation - Jahnavi\n",
    "Dataset  \n",
    "Pytrends to download reports from Google trends  \n",
    "Potential keywords selection\n"
   ]
  },
  {
   "cell_type": "markdown",
   "metadata": {},
   "source": [
    "## Use Cases - Angel\n",
    "(Describe how the components interact to accomplish the use case):  \n",
    "o\tInput: Company selection.   \n",
    "o\tOutput:   \n",
    "♣\tUpcoming earnings Report Date based on current input time + remaining days till next earnings date  \n",
    "♣\t Likelihood of Stock price will go up or down on the next upcoming earning report release date  \n",
    "♣\tPlot of trend line of historical data (daily, percentage of change)  \n"
   ]
  },
  {
   "cell_type": "markdown",
   "metadata": {},
   "source": [
    "##\tFunctional Specification of Components\n",
    "Name, What it does, Inputs (with type information), Outputs (with type information) Pseudo code (If the component is an existing package, then you should point to a documentation for the package. If the component is something that you'll build, then describe (maybe at a high level) the functions and their inputs and outputs.)\n",
    "\n"
   ]
  },
  {
   "cell_type": "markdown",
   "metadata": {},
   "source": [
    "### Quarterly Earning Reports"
   ]
  },
  {
   "cell_type": "markdown",
   "metadata": {},
   "source": [
    "Federal securities law requires large, publicly traded companies to file 10-Q reports for each of the first three fiscal quarters, and a 10-K report for the entire year, with the Securities and Exchange Commission. These reports include the net income earned during each quarter. The net income is divided by the total number of common and special shares of stock outstanding to get the diluted earnings per share (EPS). Market analysts pay attention to the quarterly reports for each company, and generally, when the earnings report is better than what analysts expected, the company stock price increases.  \n",
    "For example, this table shows the last four quarters of Amazon.com, Inc.'s earnings reports and the stock prices on the day the earnings reports were filed.  \n",
    "\n",
    " Fiscal Quarter End | Report Date | AMZN Net Income (\\$) | AMZN Diluted EPS (\\$) | AMZN Open (\\$) | AMZN Close (\\$)\n",
    " ------------------ | ----------- | -------------------- | --------------------- | -------------- | ---------------\n",
    " Mar 2017           | 4/27/2017   | 724,000,000          |   1.48                |  914.39        | 918.38\n",
    " Dec 2016           | 2/2/2017    | 749,000,000          |   1.54                |  836.59        | 839.95\n",
    " Sep 2016           | 10/27/2016  | 252,000,000          |   0.52                |  831.24        | 818.36\n",
    " Jun 2016           | 7/28/2016   | 857,000,000          |   1.78                |  745.98        | 752.61\n",
    " \n",
    " Amazon's next earnings report, for the quarter ending in June 2017, will be filed during the period: Jul 26, 2017 - Jul 31, 2017. Currently, the average forecasted EPS among analysts is \\$1.40 for June 2017 and $1.13 for September 2017. "
   ]
  },
  {
   "cell_type": "markdown",
   "metadata": {},
   "source": [
    "The prediction tool under development will show the next earnings report period and a prediction of whether the EPS will be positive or negative. The EPS is the response variable in the logistic regression model. The last 10 years of EPS reports will be used to train the statistical model. \n",
    "\n",
    "Control Logic (Suedo Code)  -- not sure what to say here..."
   ]
  },
  {
   "cell_type": "markdown",
   "metadata": {},
   "source": [
    "###\tPrediction of stock price - Abhishek\n",
    "What it does  \n",
    "Inputs   \n",
    "Outputs    \n",
    "Control Logic (Suedo Code)  "
   ]
  },
  {
   "cell_type": "markdown",
   "metadata": {},
   "source": [
    "###\tHistorical Data Plot - Khyati\n",
    "What it does  \n",
    "Inputs   \n",
    "Outputs    \n",
    "Control Logic (Suedo Code)  "
   ]
  },
  {
   "cell_type": "markdown",
   "metadata": {},
   "source": [
    "## Project plan - Angel\n",
    "Provide details for what you'll accomplish in the next two weeks, and higher level descriptions for the remaining weeks in the quarter so that the end result is that you have implemented and tested a system that accomplishes your use cases.\n"
   ]
  }
 ],
 "metadata": {
  "kernelspec": {
   "display_name": "Python 3",
   "language": "python",
   "name": "python3"
  },
  "language_info": {
   "codemirror_mode": {
    "name": "ipython",
    "version": 3
   },
   "file_extension": ".py",
   "mimetype": "text/x-python",
   "name": "python",
   "nbconvert_exporter": "python",
   "pygments_lexer": "ipython3",
   "version": "3.6.1"
  }
 },
 "nbformat": 4,
 "nbformat_minor": 2
}
