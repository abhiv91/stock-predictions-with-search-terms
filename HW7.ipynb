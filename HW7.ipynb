{
 "cells": [
  {
   "cell_type": "markdown",
   "metadata": {},
   "source": [
    "# Design Specification and Project Plan"
   ]
  },
  {
   "cell_type": "markdown",
   "metadata": {},
   "source": [
    "## Data Manipulation - Jahnavi\n",
    "Dataset  \n",
    "Pytrends to download reports from Google trends  \n",
    "Potential keywords selection\n"
   ]
  },
  {
   "cell_type": "markdown",
   "metadata": {},
   "source": [
    "## Use Cases - Angel\n",
    "(Describe how the components interact to accomplish the use case):  \n",
    "o\tInput: Company selection.   \n",
    "o\tOutput:   \n",
    "♣\tUpcoming earnings Report Date based on current input time + remaining days till next earnings date  \n",
    "♣\t Likelihood of Stock price will go up or down on the next upcoming earning report release date  \n",
    "♣\tPlot of trend line of historical data (daily, percentage of change)  \n"
   ]
  },
  {
   "cell_type": "markdown",
   "metadata": {},
   "source": [
    "##\tFunctional Specification of Components\n",
    "Name, What it does, Inputs (with type information), Outputs (with type information) Pseudo code (If the component is an existing package, then you should point to a documentation for the package. If the component is something that you'll build, then describe (maybe at a high level) the functions and their inputs and outputs.)\n",
    "\n"
   ]
  },
  {
   "cell_type": "markdown",
   "metadata": {},
   "source": [
    "### Earnings Date - Erin\n",
    "What it does  \n",
    "Inputs   \n",
    "Outputs    \n",
    "Control Logic (Suedo Code)  "
   ]
  },
  {
   "cell_type": "markdown",
   "metadata": {
    "deletable": true,
    "editable": true
   },
   "source": [
    "###\tPrediction of stock price - Abhishek\n",
    "What it does  \n",
    "Inputs   \n",
    "Outputs    \n",
    "Control Logic (Suedo Code)  "
   ]
  },
  {
   "cell_type": "markdown",
   "metadata": {
    "deletable": true,
    "editable": true
   },
   "source": [
    "###\tHistorical Data Plot - Khyati\n",
    "What it does  \n",
    "Inputs   \n",
    "Outputs    \n",
    "Control Logic (Suedo Code)  "
   ]
  },
  {
   "cell_type": "markdown",
   "metadata": {},
   "source": [
    "## Project plan - Angel\n",
    "Provide details for what you'll accomplish in the next two weeks, and higher level descriptions for the remaining weeks in the quarter so that the end result is that you have implemented and tested a system that accomplishes your use cases.\n"
   ]
  }
 ],
 "metadata": {
  "kernelspec": {
   "display_name": "Python 3",
   "language": "python",
   "name": "python3"
  },
  "language_info": {
   "codemirror_mode": {
    "name": "ipython",
    "version": 3
   },
   "file_extension": ".py",
   "mimetype": "text/x-python",
   "name": "python",
   "nbconvert_exporter": "python",
   "pygments_lexer": "ipython3",
   "version": "3.6.0"
  }
 },
 "nbformat": 4,
 "nbformat_minor": 2
}
