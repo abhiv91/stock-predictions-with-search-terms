{
 "cells": [
  {
   "cell_type": "markdown",
   "metadata": {},
   "source": [
    "# Design Specification and Project Plan"
   ]
  },
  {
   "cell_type": "markdown",
   "metadata": {},
   "source": [
    "## Data Manipulation - Jahnavi\n",
    "Dataset  \n",
    "Pytrends to download reports from Google trends  \n",
    "Potential keywords selection\n"
   ]
  },
  {
   "cell_type": "markdown",
   "metadata": {},
   "source": [
    "## Use Cases - Angel\n",
    "(Describe how the components interact to accomplish the use case):  \n",
    "o\tInput: Company selection.   \n",
    "o\tOutput:   \n",
    "♣\tUpcoming earnings Report Date based on current input time + remaining days till next earnings date  \n",
    "♣\t Likelihood of Stock price will go up or down on the next upcoming earning report release date  \n",
    "♣\tPlot of trend line of historical data (daily, percentage of change)  \n"
   ]
  },
  {
   "cell_type": "markdown",
   "metadata": {},
   "source": [
    "##\tFunctional Specification of Components\n",
    "Name, What it does, Inputs (with type information), Outputs (with type information) Pseudo code (If the component is an existing package, then you should point to a documentation for the package. If the component is something that you'll build, then describe (maybe at a high level) the functions and their inputs and outputs.)\n",
    "\n"
   ]
  },
  {
   "cell_type": "markdown",
   "metadata": {},
   "source": [
    "### Quarterly Earning Reports"
   ]
  },
  {
   "attachments": {},
   "cell_type": "markdown",
   "metadata": {},
   "source": [
    "Federal securities law requires large, publicly traded companies to file 10-Q reports for each of the first three fiscal quarters, and a 10-K report for the entire year, with the Securities and Exchange Commission. These reports include the net income earned during each quarter. The net income is divided by the total number of common and special shares of stock outstanding to get the diluted earnings per share (EPS). Market analysts pay attention to the quarterly reports for each company, and generally, when the earnings report is better than what analysts expected, the company stock price increases.  \n",
    "For example, this table shows the last four quarters of Amazon.com, Inc.'s earnings reports and the stock prices on the day the earnings reports were filed.  \n",
    "\n",
    " Fiscal Quarter End | Report Date | AMZN Net Income | AMZN Diluted EPS | AMZN Open   | AMZN Close\n",
    " ------------------ | ----------- | --------------- | ---------------- | ----------- | ----------\n",
    " Mar 2017           | 4/27/2017   | \\$ 724,000,000  |   1.48           | \\$ 914.39   | \\$ 918.38\n",
    " Dec 2016           | 2/2/2017    | \\$ 749,000,000  |   1.54           | \\$ 836.59\t | \\$ 839.95\n",
    " Sep 2016           | 10/27/2016  | \\$ 252,000,000  |   0.52           | \\$ 831.24   | \\$ 818.36\n",
    " Jun 2016           | 7/28/2016   | \\$ 857,000,000  |   1.78           | \\$ 745.98\t | \\$ 752.61\n",
    " \n",
    " Amazon's next earnings report, for the quarter ending in June 2017, will be filed during the period: Jul 26, 2017 - Jul 31, 2017. Currently, the average forecasted EPS among analysts is \\$1.40 for June 2017 and \\$1.13 for September 2017. \n",
    " \n",
    " "
   ]
  },
  {
   "cell_type": "code",
   "execution_count": 2,
   "metadata": {},
   "outputs": [
    {
     "ename": "AttributeError",
     "evalue": "module 'numpy' has no attribute 'arrange'",
     "output_type": "error",
     "traceback": [
      "\u001b[1;31m---------------------------------------------------------------------------\u001b[0m",
      "\u001b[1;31mAttributeError\u001b[0m                            Traceback (most recent call last)",
      "\u001b[1;32m<ipython-input-2-4c53f95212ed>\u001b[0m in \u001b[0;36m<module>\u001b[1;34m()\u001b[0m\n\u001b[0;32m      3\u001b[0m \u001b[0mA_EPS\u001b[0m \u001b[1;33m=\u001b[0m \u001b[1;33m(\u001b[0m\u001b[1;36m5.02\u001b[0m\u001b[1;33m,\u001b[0m \u001b[1;36m4.54\u001b[0m\u001b[1;33m,\u001b[0m \u001b[1;36m4.18\u001b[0m\u001b[1;33m,\u001b[0m \u001b[1;36m3.73\u001b[0m\u001b[1;33m)\u001b[0m\u001b[1;33m\u001b[0m\u001b[0m\n\u001b[0;32m      4\u001b[0m \u001b[0mB_EPS\u001b[0m \u001b[1;33m=\u001b[0m \u001b[1;33m(\u001b[0m\u001b[1;36m1.35\u001b[0m\u001b[1;33m,\u001b[0m \u001b[1;36m1.88\u001b[0m\u001b[1;33m,\u001b[0m \u001b[1;36m1.35\u001b[0m\u001b[1;33m,\u001b[0m \u001b[1;36m0.73\u001b[0m\u001b[1;33m)\u001b[0m\u001b[1;33m\u001b[0m\u001b[0m\n\u001b[1;32m----> 5\u001b[1;33m \u001b[0mind\u001b[0m \u001b[1;33m=\u001b[0m \u001b[0mnp\u001b[0m\u001b[1;33m.\u001b[0m\u001b[0marrange\u001b[0m\u001b[1;33m(\u001b[0m\u001b[0mlen\u001b[0m\u001b[1;33m(\u001b[0m\u001b[0mA_EPS\u001b[0m\u001b[1;33m)\u001b[0m\u001b[1;33m)\u001b[0m \u001b[1;31m# the x locations for the groups\u001b[0m\u001b[1;33m\u001b[0m\u001b[0m\n\u001b[0m\u001b[0;32m      6\u001b[0m \u001b[0mwidth\u001b[0m \u001b[1;33m=\u001b[0m\u001b[1;36m0.40\u001b[0m\u001b[1;33m\u001b[0m\u001b[0m\n\u001b[0;32m      7\u001b[0m \u001b[0mfig\u001b[0m\u001b[1;33m,\u001b[0m \u001b[0max\u001b[0m \u001b[1;33m=\u001b[0m \u001b[0mplt\u001b[0m\u001b[1;33m.\u001b[0m\u001b[0msubplots\u001b[0m\u001b[1;33m(\u001b[0m\u001b[1;33m)\u001b[0m\u001b[1;33m\u001b[0m\u001b[0m\n",
      "\u001b[1;31mAttributeError\u001b[0m: module 'numpy' has no attribute 'arrange'"
     ]
    }
   ],
   "source": [
    "import matplotlib.pyplot as plt\n",
    "import numpy as np\n",
    "A_EPS = (5.02, 4.54, 4.18, 3.73)\n",
    "B_EPS = (1.35, 1.88, 1.35, 0.73)\n",
    "ind = np.arrange(len(A_EPS)) # the x locations for the groups\n",
    "width =0.40\n",
    "fig, ax = plt.subplots()\n",
    "A_Std=B_Std=(2,2,2,2)\n",
    "rects1 = ax.bar(ind, A_EPS, width, color='y', yerr=A_Std)\n",
    "rect2 = ax.bar(ind+width, B_EPS, width, color='y', yerr=B_Std)\n",
    "ax.set_ylabel('EPS')\n",
    "ax.set_xlabel('Year')\n",
    "ax.set_title('Diluted EPS Excluding Extraordinary Items ')\n",
    "ax.set_xtick(ind+width)\n",
    "ax.set_xticklabels( ('2012', '2011', '2010', '2009') )\n",
    "ax.legend( (rects1[0], rects2[0]), ('W-mart', 'DELL'))\n",
    "def autolabel(rects):\n",
    "\tfor rect in rects:\n",
    "\t\theights = rect.get_height()\n",
    "\t\tax.text(rect.get_x()+rect.get_width()/2., 1.05*height,\n",
    "\t\t'%d'%int(height),\n",
    "\t\t\tha='center', va='bottom')\n",
    "\t\tautolabel(rects1)\n",
    "\t\tautolabel(rects2)\n",
    "plt.show()"
   ]
  },
  {
   "cell_type": "markdown",
   "metadata": {},
   "source": [
    "The prediction tool under development will show the next earnings report period and a prediction of whether the EPS will be positive or negative. The EPS is the response variable in the logistic regression model. The last 10 years of EPS reports will be used to train the statistical model. \n",
    "\n",
    "Control Logic (Suedo Code)  "
   ]
  },
  {
   "cell_type": "markdown",
   "metadata": {},
   "source": [
    "###\tPrediction of stock price - Abhishek\n",
    "What it does  \n",
    "Inputs   \n",
    "Outputs    \n",
    "Control Logic (Suedo Code)  "
   ]
  },
  {
   "cell_type": "markdown",
   "metadata": {},
   "source": [
    "###\tHistorical Data Plot - Khyati\n",
    "What it does  \n",
    "Inputs   \n",
    "Outputs    \n",
    "Control Logic (Suedo Code)  "
   ]
  },
  {
   "cell_type": "markdown",
   "metadata": {},
   "source": [
    "## Project plan - Angel\n",
    "Provide details for what you'll accomplish in the next two weeks, and higher level descriptions for the remaining weeks in the quarter so that the end result is that you have implemented and tested a system that accomplishes your use cases.\n"
   ]
  }
 ],
 "metadata": {
  "kernelspec": {
   "display_name": "Python 3",
   "language": "python",
   "name": "python3"
  },
  "language_info": {
   "codemirror_mode": {
    "name": "ipython",
    "version": 3
   },
   "file_extension": ".py",
   "mimetype": "text/x-python",
   "name": "python",
   "nbconvert_exporter": "python",
   "pygments_lexer": "ipython3",
   "version": "3.6.1"
  }
 },
 "nbformat": 4,
 "nbformat_minor": 2
}
