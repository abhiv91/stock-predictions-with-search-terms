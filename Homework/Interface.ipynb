{
 "cells": [
  {
   "cell_type": "markdown",
   "metadata": {
    "deletable": true,
    "editable": true
   },
   "source": [
    "## Please select Company that you are interested to invest:"
   ]
  },
  {
   "cell_type": "code",
   "execution_count": 2,
   "metadata": {
    "collapsed": false,
    "deletable": true,
    "editable": true
   },
   "outputs": [],
   "source": [
    "\n",
    "import bokeh\n",
    "from pytrends.request import TrendReq\n",
    "\n",
    "from bokeh.charts import TimeSeries, show, output_file, Line\n",
    "from bokeh.layouts import column\n",
    "%matplotlib inline\n",
    "from bokeh.plotting import figure, output_file, show, output_notebook \n",
    "output_file('plot.html')\n",
    "google_username = \"data515gtrend@gmail.com\"\n",
    "google_password = \"Data515gtrend123\"\n",
    "path = \"\"\n"
   ]
  },
  {
   "cell_type": "code",
   "execution_count": 19,
   "metadata": {
    "collapsed": true
   },
   "outputs": [],
   "source": [
    "def print_menu():       \n",
    "    print 30 * \"-\" , \"MENU\" , 30 * \"-\"\n",
    "    print \"1. Amazon\"\n",
    "    print \"2. Google\"\n",
    "    print \"3. Microsoft\"\n",
    "    print 67 * \"-\"\n"
   ]
  },
  {
   "cell_type": "code",
   "execution_count": 20,
   "metadata": {
    "collapsed": false,
    "deletable": true,
    "editable": true
   },
   "outputs": [
    {
     "name": "stdout",
     "output_type": "stream",
     "text": [
      "------------------------------ MENU ------------------------------\n",
      "1. Amazon\n",
      "2. Google\n",
      "3. Microsoft\n",
      "-------------------------------------------------------------------\n",
      "Enter your choice: 2\n"
     ]
    }
   ],
   "source": [
    "if __name__ == \"__main__\":\n",
    "    print_menu()\n",
    "    option = input(\"Enter your choice: \")\n",
    "    if option == 1:\n",
    "        selected_kw = [\"Amazon Kindle\",\"Amazon order\",\"Amazon recall\",\"Amazon register\",\"Amazon sucks\"] \n",
    "        pytrend = TrendReq(google_username, google_password, custom_useragent='My Pytrends Script')\n",
    "        pytrend.build_payload(kw_list=selected_kw, timeframe='2006-10-01 2017-3-31')\n",
    "        interest_over_time_df_amazon = pytrend.interest_over_time()\n",
    "        p = TimeSeries(interest_over_time_df_amazon, xlabel='Date',width=1200,height=700,dash=selected_kw,color=selected_kw)\n",
    "    elif option == 2:\n",
    "        selected_kw = ['Google Earth', 'Google Maps', 'Google Chrome', 'Google Cardboard', 'Google Nexus'] \n",
    "        pytrend = TrendReq(google_username, google_password, custom_useragent='My Pytrends Script')\n",
    "        pytrend.build_payload(kw_list=selected_kw, timeframe='2006-10-01 2017-3-31')\n",
    "        interest_over_time_df_google = pytrend.interest_over_time()\n",
    "        p = TimeSeries(interest_over_time_df_google, xlabel='Date',width=1200,height=700,dash=selected_kw,color=selected_kw)\n",
    "    elif option == 3:\n",
    "        selected_kw = ['Microsoft Outlook', 'Microsoft Powerpoint', 'Microsoft Office Product Key', 'Microsoft Excel','Microsoft Skype']\n",
    "        pytrend = TrendReq(google_username, google_password, custom_useragent='My Pytrends Script')\n",
    "        pytrend.build_payload(kw_list=selected_kw, timeframe='2006-10-01 2017-3-31')\n",
    "        interest_over_time_df_microsoft = pytrend.interest_over_time()\n",
    "        p = TimeSeries(interest_over_time_df_microsoft, xlabel='Date',width=1200,height=700,dash=selected_kw,color=selected_kw)\n",
    "    else:\n",
    "        print(\"Invalid option.\")\n",
    "    \n",
    "    show(p)"
   ]
  },
  {
   "cell_type": "code",
   "execution_count": null,
   "metadata": {
    "collapsed": true,
    "deletable": true,
    "editable": true
   },
   "outputs": [],
   "source": []
  }
 ],
 "metadata": {
  "kernelspec": {
   "display_name": "Python 2",
   "language": "python",
   "name": "python2"
  },
  "language_info": {
   "codemirror_mode": {
    "name": "ipython",
    "version": 2
   },
   "file_extension": ".py",
   "mimetype": "text/x-python",
   "name": "python",
   "nbconvert_exporter": "python",
   "pygments_lexer": "ipython2",
   "version": "2.7.13"
  }
 },
 "nbformat": 4,
 "nbformat_minor": 2
}
