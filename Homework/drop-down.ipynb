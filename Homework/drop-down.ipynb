{
 "cells": [
  {
   "cell_type": "code",
   "execution_count": 7,
   "metadata": {
    "collapsed": false
   },
   "outputs": [
    {
     "name": "stdout",
     "output_type": "stream",
     "text": [
      "You chose:  Potatoe\n"
     ]
    }
   ],
   "source": [
    "from tkinter import *\n",
    "from tkinter import ttk \n",
    "root = Tk()\n",
    "root.title(\"Tk dropdown example\")\n",
    " \n",
    "# Add a grid\n",
    "mainframe = Frame(root)\n",
    "mainframe.grid(column=0,row=0, sticky=(N,W,E,S) )\n",
    "mainframe.columnconfigure(0, weight = 1)\n",
    "mainframe.rowconfigure(0, weight = 1)\n",
    "mainframe.pack(pady = 100, padx = 100)\n",
    " \n",
    "# Create a Tkinter variable\n",
    "tkvar = StringVar(root)\n",
    " \n",
    "# Dictionary with options\n",
    "choices = { 'Pizza','Lasagne','Fries','Fish','Potatoe'}\n",
    "tkvar.set('Pizza') # set the default option\n",
    " \n",
    "popupMenu = OptionMenu(mainframe, tkvar, *choices)\n",
    "Label(mainframe, text=\"Choose a dish\").grid(row = 1, column = 1)\n",
    "popupMenu.grid(row = 2, column =1)\n",
    " \n",
    "# on change dropdown value\n",
    "def change_dropdown(*args):\n",
    "    print( \"You chose: \", tkvar.get())\n",
    " \n",
    "# link function to change dropdown\n",
    "tkvar.trace('w', change_dropdown)\n",
    " \n",
    "root.mainloop()"
   ]
  },
  {
   "cell_type": "code",
   "execution_count": null,
   "metadata": {
    "collapsed": true
   },
   "outputs": [],
   "source": []
  }
 ],
 "metadata": {
  "kernelspec": {
   "display_name": "Python 3",
   "language": "python",
   "name": "python3"
  },
  "language_info": {
   "codemirror_mode": {
    "name": "ipython",
    "version": 3
   },
   "file_extension": ".py",
   "mimetype": "text/x-python",
   "name": "python",
   "nbconvert_exporter": "python",
   "pygments_lexer": "ipython3",
   "version": "3.6.0"
  }
 },
 "nbformat": 4,
 "nbformat_minor": 2
}
