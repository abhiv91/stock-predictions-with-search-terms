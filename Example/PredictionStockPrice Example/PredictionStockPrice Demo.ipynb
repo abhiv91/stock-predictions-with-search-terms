{
 "cells": [
  {
   "cell_type": "code",
   "execution_count": 5,
   "metadata": {
    "collapsed": true,
    "deletable": true,
    "editable": true
   },
   "outputs": [],
   "source": [
    "# Import Libraries\n",
    "import PredictionStockPrice"
   ]
  },
  {
   "cell_type": "code",
   "execution_count": 8,
   "metadata": {
    "collapsed": true,
    "deletable": true,
    "editable": true
   },
   "outputs": [],
   "source": [
    "def print_menu():       \n",
    "    print (10 * \"-\" , \" Please select Company that you are interested to invest:\" , 10 * \"-\")\n",
    "    print (\"1. Amazon\")\n",
    "    print (\"2. Google\")\n",
    "    print (\"3. Microsoft\")\n",
    "    print (67 * \"-\")"
   ]
  },
  {
   "cell_type": "code",
   "execution_count": 9,
   "metadata": {
    "collapsed": false,
    "deletable": true,
    "editable": true
   },
   "outputs": [
    {
     "name": "stdout",
     "output_type": "stream",
     "text": [
      "----------  Please select Company that you are interested to invest: ----------\n",
      "1. Amazon\n",
      "2. Google\n",
      "3. Microsoft\n",
      "-------------------------------------------------------------------\n",
      "Enter your choice: 1\n",
      "Predicted probability the stock price will increase after releasing next quarter’s earnings report: \n"
     ]
    },
    {
     "name": "stderr",
     "output_type": "stream",
     "text": [
      "/Users/Angel/miniconda3/lib/python3.6/site-packages/sklearn/preprocessing/data.py:586: DeprecationWarning: Passing 1d arrays as data is deprecated in 0.17 and will raise ValueError in 0.19. Reshape your data either using X.reshape(-1, 1) if your data has a single feature or X.reshape(1, -1) if it contains a single sample.\n",
      "  warnings.warn(DEPRECATION_MSG_1D, DeprecationWarning)\n",
      "/Users/Angel/miniconda3/lib/python3.6/site-packages/sklearn/preprocessing/data.py:649: DeprecationWarning: Passing 1d arrays as data is deprecated in 0.17 and will raise ValueError in 0.19. Reshape your data either using X.reshape(-1, 1) if your data has a single feature or X.reshape(1, -1) if it contains a single sample.\n",
      "  warnings.warn(DEPRECATION_MSG_1D, DeprecationWarning)\n"
     ]
    },
    {
     "name": "stdout",
     "output_type": "stream",
     "text": [
      "Predicted probability the stock price will increase after\n",
      "           releasing next quarter’s earnings report:  0.92\n",
      "None\n"
     ]
    },
    {
     "name": "stderr",
     "output_type": "stream",
     "text": [
      "/Users/Angel/Desktop/DATA515/Data515_FinalProject/Example/PredictionStockPrice Example/PredictionStockPrice.py:123: SettingWithCopyWarning: \n",
      "A value is trying to be set on a copy of a slice from a DataFrame\n",
      "\n",
      "See the caveats in the documentation: http://pandas.pydata.org/pandas-docs/stable/indexing.html#indexing-view-versus-copy\n",
      "  data['Price Change'][data['Price Change'] > 0] = 1\n",
      "/Users/Angel/Desktop/DATA515/Data515_FinalProject/Example/PredictionStockPrice Example/PredictionStockPrice.py:124: SettingWithCopyWarning: \n",
      "A value is trying to be set on a copy of a slice from a DataFrame\n",
      "\n",
      "See the caveats in the documentation: http://pandas.pydata.org/pandas-docs/stable/indexing.html#indexing-view-versus-copy\n",
      "  data['Price Change'][data['Price Change'] <= 0] = 0\n"
     ]
    }
   ],
   "source": [
    "if __name__ == \"__main__\":\n",
    "    print_menu()\n",
    "    option = int(input(\"Enter your choice: \"))\n",
    "    if option == 1:\n",
    "        print(\"Predicted probability the stock price will increase after releasing next quarter’s earnings report: \")\n",
    "        print(PredictionStockPrice.prediction_stock_price(\"Amazon\"))\n",
    "    elif option == 2:\n",
    "        print(\"Predicted probability the stock price will increase after releasing next quarter’s earnings report: \")\n",
    "        print(PredictionStockPrice.prediction_stock_price(\"Google\"))\n",
    "    elif option == 3:\n",
    "        print(\"Predicted probability the stock price will increase after releasing next quarter’s earnings report: \")\n",
    "        print(PredictionStockPrice.prediction_stock_price(\"Microsoft\"))\n",
    "    else:\n",
    "        print(\"Invalid option.\")"
   ]
  },
  {
   "cell_type": "code",
   "execution_count": null,
   "metadata": {
    "collapsed": true,
    "deletable": true,
    "editable": true
   },
   "outputs": [],
   "source": []
  }
 ],
 "metadata": {
  "kernelspec": {
   "display_name": "Python 3",
   "language": "python",
   "name": "python3"
  },
  "language_info": {
   "codemirror_mode": {
    "name": "ipython",
    "version": 3
   },
   "file_extension": ".py",
   "mimetype": "text/x-python",
   "name": "python",
   "nbconvert_exporter": "python",
   "pygments_lexer": "ipython3",
   "version": "3.6.0"
  }
 },
 "nbformat": 4,
 "nbformat_minor": 2
}
