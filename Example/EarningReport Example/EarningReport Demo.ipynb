{
 "cells": [
  {
   "cell_type": "code",
   "execution_count": 4,
   "metadata": {
    "collapsed": true
   },
   "outputs": [],
   "source": [
    "# Import Libraries\n",
    "import EarningReport"
   ]
  },
  {
   "cell_type": "code",
   "execution_count": 5,
   "metadata": {
    "collapsed": true
   },
   "outputs": [],
   "source": [
    "def print_menu():       \n",
    "    print (10 * \"-\" , \" Please select Company that you are interested to invest:\" , 10 * \"-\")\n",
    "    print (\"1. Amazon\")\n",
    "    print (\"2. Google\")\n",
    "    print (\"3. Microsoft\")\n",
    "    print (67 * \"-\")"
   ]
  },
  {
   "cell_type": "code",
   "execution_count": null,
   "metadata": {
    "collapsed": false
   },
   "outputs": [],
   "source": [
    "if __name__ == \"__main__\":\n",
    "    print_menu()\n",
    "    option = int(input(\"Enter your choice: \"))\n",
    "    if option == 1:\n",
    "        EarningReport.get_current_quarter_dates()\n",
    "        EarningReport.show_last_day_quarter()\n",
    "        EarningReport.get_earnings_data(\"Amazon\")\n",
    "    elif option == 2:\n",
    "        EarningReport.get_current_quarter_dates()\n",
    "        EarningReport.show_last_day_quarter()\n",
    "        EarningReport.get_earnings_data(\"Google\")\n",
    "    elif option == 3:\n",
    "        EarningReport.get_current_quarter_dates()\n",
    "        EarningReport.show_last_day_quarter()\n",
    "        EarningReport.get_earnings_data(\"Microsoft\")\n",
    "    else:\n",
    "        print(\"Invalid option.\")"
   ]
  },
  {
   "cell_type": "code",
   "execution_count": null,
   "metadata": {
    "collapsed": true
   },
   "outputs": [],
   "source": []
  }
 ],
 "metadata": {
  "kernelspec": {
   "display_name": "Python 3",
   "language": "python",
   "name": "python3"
  },
  "language_info": {
   "codemirror_mode": {
    "name": "ipython",
    "version": 3
   },
   "file_extension": ".py",
   "mimetype": "text/x-python",
   "name": "python",
   "nbconvert_exporter": "python",
   "pygments_lexer": "ipython3",
   "version": "3.6.0"
  }
 },
 "nbformat": 4,
 "nbformat_minor": 2
}
